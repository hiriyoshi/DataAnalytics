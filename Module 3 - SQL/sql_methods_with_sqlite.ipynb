{
 "cells": [
  {
   "cell_type": "markdown",
   "metadata": {},
   "source": [
    "# **SQL METHODS**"
   ]
  },
  {
   "cell_type": "markdown",
   "metadata": {},
   "source": [
    "In SQL, methods refer to functions or procedures that perform specific tasks within your queries. They are like pre-defined tools that you can use to manipulate, analyze, or interact with your data in various ways."
   ]
  },
  {
   "cell_type": "markdown",
   "metadata": {},
   "source": [
    "#### **Import SQLite3**"
   ]
  },
  {
   "cell_type": "code",
   "execution_count": 59,
   "metadata": {},
   "outputs": [],
   "source": [
    "import sqlite3"
   ]
  },
  {
   "cell_type": "markdown",
   "metadata": {},
   "source": [
    "#### **Connect to the SQLite Database**\n",
    "If you want to create the database file in the current directory (where your Jupyter Notebook is located) and specify the name of the database file, you can do it like this:"
   ]
  },
  {
   "cell_type": "code",
   "execution_count": 60,
   "metadata": {},
   "outputs": [],
   "source": [
    "conn = sqlite3.connect(\"sqlite-crud.db\")\n",
    "cursor = conn.cursor()"
   ]
  },
  {
   "cell_type": "markdown",
   "metadata": {},
   "source": [
    "### **SELECT**"
   ]
  },
  {
   "cell_type": "markdown",
   "metadata": {},
   "source": [
    "The SELECT statement in SQL retrieves data from one or more tables, allowing users to specify columns to fetch and apply filters, sorting, and aggregations to manipulate the data returned."
   ]
  },
  {
   "cell_type": "code",
   "execution_count": 61,
   "metadata": {},
   "outputs": [
    {
     "data": {
      "text/plain": [
       "[(2, 'Jane', 'Smith', 'Marketing', 55000, '2024-04-26', 3),\n",
       " (3, 'Michael', 'Johnson', 'Sales', 60000, '2024-04-27', 5),\n",
       " (4, 'Emily', 'Davis', 'Operations', 62000, '2024-04-20', 2),\n",
       " (5, 'David', 'Wilson', 'Operations', 58000, '2024-04-28', 1),\n",
       " (6, 'Linda', 'Martinez', 'IT', 70000, '2024-04-29', 4),\n",
       " (7, 'Robert', 'Anderson', 'Finance', 65000, '2024-04-30', 3),\n",
       " (8, 'Patricia', 'Taylor', 'HR', 52000, '2024-05-01', 5),\n",
       " (9, 'Christopher', 'Thomas', 'Marketing', 59000, '2024-05-02', 2),\n",
       " (10, 'Jennifer', 'Lee', 'Sales', 63000, '2024-05-03', 3),\n",
       " (11, 'James', 'White', 'Operations', 56000, '2024-05-04', 4),\n",
       " (12, 'Barbara', 'Harris', 'IT', 68000, '2024-05-05', 1),\n",
       " (13, 'Daniel', 'Clark', 'Finance', 64000, '2024-05-06', 5),\n",
       " (14, 'Nancy', 'Lewis', 'HR', 53000, '2024-05-07', 2),\n",
       " (15, 'Paul', 'Walker', 'Sales', 61000, '2024-05-08', 3),\n",
       " (16, 'Karen', 'Hall', 'Marketing', 60000, '2024-05-09', 4),\n",
       " (17, 'Steven', 'Allen', 'IT', 69000, '2024-05-10', 5),\n",
       " (18, 'Elizabeth', 'Young', 'Finance', 62000, '2024-05-11', 2),\n",
       " (19, 'George', 'King', 'Operations', 57000, '2024-05-12', 3),\n",
       " (20, 'Mary', 'Wright', 'HR', 54000, '2024-05-13', 4),\n",
       " (21, 'Brian', 'Lopez', 'Sales', 62000, '2024-05-14', 5),\n",
       " (22, 'Megan', 'Hill', 'IT', 71000, '2024-05-15', 2),\n",
       " (23, 'Anthony', 'Scott', 'Finance', 66000, '2024-05-16', 3),\n",
       " (24, 'Deborah', 'Green', 'Marketing', 63000, '2024-05-17', 4),\n",
       " (25, 'Larry', 'Adams', 'Operations', 58000, '2024-05-18', 5),\n",
       " (26, 'Sarah', 'Nelson', 'HR', 55000, '2024-05-19', 2),\n",
       " (27, 'Kenneth', 'Carter', 'Sales', 64000, '2024-05-20', 3),\n",
       " (28, 'Betty', 'Mitchell', 'IT', 72000, '2024-05-21', 4),\n",
       " (29, 'Ronald', 'Perez', 'Finance', 67000, '2024-05-22', 5),\n",
       " (30, 'Laura', 'Roberts', 'Marketing', 65000, '2024-05-23', 2)]"
      ]
     },
     "execution_count": 61,
     "metadata": {},
     "output_type": "execute_result"
    }
   ],
   "source": [
    "cursor.execute(\"SELECT * FROM employees\")\n",
    "cursor.fetchall()"
   ]
  },
  {
   "cell_type": "markdown",
   "metadata": {},
   "source": [
    "### **DISTINCT**\n",
    "\n",
    "The **DISTINCT** keyword is used to return only distinct (unique) values in the result set of a query. It ensures that duplicate rows are removed from the output."
   ]
  },
  {
   "cell_type": "code",
   "execution_count": 62,
   "metadata": {},
   "outputs": [
    {
     "data": {
      "text/plain": [
       "[('Marketing',), ('Sales',), ('Operations',), ('IT',), ('Finance',), ('HR',)]"
      ]
     },
     "execution_count": 62,
     "metadata": {},
     "output_type": "execute_result"
    }
   ],
   "source": [
    "cursor.execute(\"\"\"\n",
    "SELECT DISTINCT department FROM employees\n",
    "\"\"\")\n",
    "cursor.fetchall()"
   ]
  },
  {
   "cell_type": "markdown",
   "metadata": {},
   "source": [
    "### **LIMIT**\n",
    "\n",
    "The **LIMIT** clause specifies the maximum number of rows to return in a query result."
   ]
  },
  {
   "cell_type": "code",
   "execution_count": 63,
   "metadata": {},
   "outputs": [
    {
     "data": {
      "text/plain": [
       "[(2, 'Jane', 'Smith', 'Marketing', 55000, '2024-04-26', 3),\n",
       " (3, 'Michael', 'Johnson', 'Sales', 60000, '2024-04-27', 5),\n",
       " (4, 'Emily', 'Davis', 'Operations', 62000, '2024-04-20', 2),\n",
       " (5, 'David', 'Wilson', 'Operations', 58000, '2024-04-28', 1),\n",
       " (6, 'Linda', 'Martinez', 'IT', 70000, '2024-04-29', 4)]"
      ]
     },
     "execution_count": 63,
     "metadata": {},
     "output_type": "execute_result"
    }
   ],
   "source": [
    "cursor.execute(\"\"\"\n",
    "SELECT * FROM employees LIMIT 5\n",
    "               \n",
    "\"\"\")\n",
    "cursor.fetchall()"
   ]
  },
  {
   "cell_type": "code",
   "execution_count": 64,
   "metadata": {},
   "outputs": [
    {
     "data": {
      "text/plain": [
       "[(2, 'Jane', 'Smith', 'Marketing', 55000, '2024-04-26', 3),\n",
       " (3, 'Michael', 'Johnson', 'Sales', 60000, '2024-04-27', 5),\n",
       " (4, 'Emily', 'Davis', 'Operations', 62000, '2024-04-20', 2),\n",
       " (5, 'David', 'Wilson', 'Operations', 58000, '2024-04-28', 1),\n",
       " (6, 'Linda', 'Martinez', 'IT', 70000, '2024-04-29', 4),\n",
       " (7, 'Robert', 'Anderson', 'Finance', 65000, '2024-04-30', 3),\n",
       " (8, 'Patricia', 'Taylor', 'HR', 52000, '2024-05-01', 5),\n",
       " (9, 'Christopher', 'Thomas', 'Marketing', 59000, '2024-05-02', 2),\n",
       " (10, 'Jennifer', 'Lee', 'Sales', 63000, '2024-05-03', 3),\n",
       " (11, 'James', 'White', 'Operations', 56000, '2024-05-04', 4)]"
      ]
     },
     "execution_count": 64,
     "metadata": {},
     "output_type": "execute_result"
    }
   ],
   "source": [
    "cursor.execute(\"\"\"\n",
    "SELECT * FROM employees \n",
    "LIMIT 0, 10 \n",
    "\"\"\")\n",
    "cursor.fetchall()"
   ]
  },
  {
   "cell_type": "code",
   "execution_count": 65,
   "metadata": {},
   "outputs": [
    {
     "data": {
      "text/plain": [
       "[(5, 'David', 'Wilson', 'Operations', 58000, '2024-04-28', 1),\n",
       " (6, 'Linda', 'Martinez', 'IT', 70000, '2024-04-29', 4)]"
      ]
     },
     "execution_count": 65,
     "metadata": {},
     "output_type": "execute_result"
    }
   ],
   "source": [
    "# LIMIT(starting offset - will not be displayed, how many records to display)\n",
    "cursor.execute(\"\"\"\n",
    "SELECT * FROM employees\n",
    "LIMIT 3, 2\n",
    "\"\"\")\n",
    "cursor.fetchall()"
   ]
  },
  {
   "cell_type": "markdown",
   "metadata": {},
   "source": [
    "### **COUNT**\n",
    "\n",
    "The **COUNT** function is used to count the number of rows in a table or the number of rows matching a specific condition."
   ]
  },
  {
   "cell_type": "code",
   "execution_count": 66,
   "metadata": {},
   "outputs": [
    {
     "data": {
      "text/plain": [
       "[(29,)]"
      ]
     },
     "execution_count": 66,
     "metadata": {},
     "output_type": "execute_result"
    }
   ],
   "source": [
    "cursor.execute(\"SELECT COUNT(*) FROM employees\")\n",
    "cursor.fetchall()"
   ]
  },
  {
   "cell_type": "markdown",
   "metadata": {},
   "source": [
    "### **WHERE**\n",
    "\n",
    "The **WHERE** clause is used to filter data retrieved from a database based on specific conditions."
   ]
  },
  {
   "cell_type": "markdown",
   "metadata": {},
   "source": [
    "### **Comparison Operators:**\n",
    "#### `=`: Equal to"
   ]
  },
  {
   "cell_type": "code",
   "execution_count": 67,
   "metadata": {},
   "outputs": [
    {
     "data": {
      "text/plain": [
       "[(5,)]"
      ]
     },
     "execution_count": 67,
     "metadata": {},
     "output_type": "execute_result"
    }
   ],
   "source": [
    "cursor.execute(\"SELECT COUNT(*) FROM employees WHERE department = 'IT'\")\n",
    "cursor.fetchall()"
   ]
  },
  {
   "cell_type": "markdown",
   "metadata": {},
   "source": [
    "#### `!=` : Not equal to"
   ]
  },
  {
   "cell_type": "code",
   "execution_count": 68,
   "metadata": {},
   "outputs": [
    {
     "data": {
      "text/plain": [
       "[(24,)]"
      ]
     },
     "execution_count": 68,
     "metadata": {},
     "output_type": "execute_result"
    }
   ],
   "source": [
    "cursor.execute(\"SELECT COUNT(*) FROM employees WHERE department != 'IT'\")\n",
    "cursor.fetchall()"
   ]
  },
  {
   "cell_type": "markdown",
   "metadata": {},
   "source": [
    "#### `<` : Less than"
   ]
  },
  {
   "cell_type": "code",
   "execution_count": 69,
   "metadata": {},
   "outputs": [
    {
     "data": {
      "text/plain": [
       "[(2, 'Jane', 'Smith', 'Marketing', 55000, '2024-04-26', 3),\n",
       " (5, 'David', 'Wilson', 'Operations', 58000, '2024-04-28', 1),\n",
       " (8, 'Patricia', 'Taylor', 'HR', 52000, '2024-05-01', 5),\n",
       " (9, 'Christopher', 'Thomas', 'Marketing', 59000, '2024-05-02', 2),\n",
       " (11, 'James', 'White', 'Operations', 56000, '2024-05-04', 4),\n",
       " (14, 'Nancy', 'Lewis', 'HR', 53000, '2024-05-07', 2),\n",
       " (19, 'George', 'King', 'Operations', 57000, '2024-05-12', 3),\n",
       " (20, 'Mary', 'Wright', 'HR', 54000, '2024-05-13', 4),\n",
       " (25, 'Larry', 'Adams', 'Operations', 58000, '2024-05-18', 5),\n",
       " (26, 'Sarah', 'Nelson', 'HR', 55000, '2024-05-19', 2)]"
      ]
     },
     "execution_count": 69,
     "metadata": {},
     "output_type": "execute_result"
    }
   ],
   "source": [
    "cursor.execute(\"SELECT * FROM employees WHERE salary <= 59000\")\n",
    "cursor.fetchall()"
   ]
  },
  {
   "cell_type": "markdown",
   "metadata": {},
   "source": [
    "#### `>` : Greater than"
   ]
  },
  {
   "cell_type": "code",
   "execution_count": 70,
   "metadata": {},
   "outputs": [
    {
     "data": {
      "text/plain": [
       "[(3, 'Michael', 'Johnson', 'Sales', 60000, '2024-04-27', 5),\n",
       " (4, 'Emily', 'Davis', 'Operations', 62000, '2024-04-20', 2),\n",
       " (6, 'Linda', 'Martinez', 'IT', 70000, '2024-04-29', 4),\n",
       " (7, 'Robert', 'Anderson', 'Finance', 65000, '2024-04-30', 3),\n",
       " (10, 'Jennifer', 'Lee', 'Sales', 63000, '2024-05-03', 3),\n",
       " (12, 'Barbara', 'Harris', 'IT', 68000, '2024-05-05', 1),\n",
       " (13, 'Daniel', 'Clark', 'Finance', 64000, '2024-05-06', 5),\n",
       " (15, 'Paul', 'Walker', 'Sales', 61000, '2024-05-08', 3),\n",
       " (16, 'Karen', 'Hall', 'Marketing', 60000, '2024-05-09', 4),\n",
       " (17, 'Steven', 'Allen', 'IT', 69000, '2024-05-10', 5),\n",
       " (18, 'Elizabeth', 'Young', 'Finance', 62000, '2024-05-11', 2),\n",
       " (21, 'Brian', 'Lopez', 'Sales', 62000, '2024-05-14', 5),\n",
       " (22, 'Megan', 'Hill', 'IT', 71000, '2024-05-15', 2),\n",
       " (23, 'Anthony', 'Scott', 'Finance', 66000, '2024-05-16', 3),\n",
       " (24, 'Deborah', 'Green', 'Marketing', 63000, '2024-05-17', 4),\n",
       " (27, 'Kenneth', 'Carter', 'Sales', 64000, '2024-05-20', 3),\n",
       " (28, 'Betty', 'Mitchell', 'IT', 72000, '2024-05-21', 4),\n",
       " (29, 'Ronald', 'Perez', 'Finance', 67000, '2024-05-22', 5),\n",
       " (30, 'Laura', 'Roberts', 'Marketing', 65000, '2024-05-23', 2)]"
      ]
     },
     "execution_count": 70,
     "metadata": {},
     "output_type": "execute_result"
    }
   ],
   "source": [
    "cursor.execute(\"SELECT * FROM employees WHERE salary >= 60000\")\n",
    "cursor.fetchall()"
   ]
  },
  {
   "cell_type": "markdown",
   "metadata": {},
   "source": [
    "#### `<=` : Less than or equal to"
   ]
  },
  {
   "cell_type": "code",
   "execution_count": 71,
   "metadata": {},
   "outputs": [
    {
     "data": {
      "text/plain": [
       "[(2, 'Jane', 'Smith', 'Marketing', 55000, '2024-04-26', 3),\n",
       " (5, 'David', 'Wilson', 'Operations', 58000, '2024-04-28', 1),\n",
       " (8, 'Patricia', 'Taylor', 'HR', 52000, '2024-05-01', 5),\n",
       " (9, 'Christopher', 'Thomas', 'Marketing', 59000, '2024-05-02', 2),\n",
       " (11, 'James', 'White', 'Operations', 56000, '2024-05-04', 4),\n",
       " (14, 'Nancy', 'Lewis', 'HR', 53000, '2024-05-07', 2),\n",
       " (19, 'George', 'King', 'Operations', 57000, '2024-05-12', 3),\n",
       " (20, 'Mary', 'Wright', 'HR', 54000, '2024-05-13', 4),\n",
       " (25, 'Larry', 'Adams', 'Operations', 58000, '2024-05-18', 5),\n",
       " (26, 'Sarah', 'Nelson', 'HR', 55000, '2024-05-19', 2)]"
      ]
     },
     "execution_count": 71,
     "metadata": {},
     "output_type": "execute_result"
    }
   ],
   "source": [
    "cursor.execute(\"SELECT * FROM employees WHERE salary <= 59000\")\n",
    "cursor.fetchall()"
   ]
  },
  {
   "cell_type": "markdown",
   "metadata": {},
   "source": [
    "#### `>=` : Greater than or equal to"
   ]
  },
  {
   "cell_type": "code",
   "execution_count": 72,
   "metadata": {},
   "outputs": [
    {
     "data": {
      "text/plain": [
       "[(3, 'Michael', 'Johnson', 'Sales', 60000, '2024-04-27', 5),\n",
       " (4, 'Emily', 'Davis', 'Operations', 62000, '2024-04-20', 2),\n",
       " (6, 'Linda', 'Martinez', 'IT', 70000, '2024-04-29', 4),\n",
       " (7, 'Robert', 'Anderson', 'Finance', 65000, '2024-04-30', 3),\n",
       " (10, 'Jennifer', 'Lee', 'Sales', 63000, '2024-05-03', 3),\n",
       " (12, 'Barbara', 'Harris', 'IT', 68000, '2024-05-05', 1),\n",
       " (13, 'Daniel', 'Clark', 'Finance', 64000, '2024-05-06', 5),\n",
       " (15, 'Paul', 'Walker', 'Sales', 61000, '2024-05-08', 3),\n",
       " (16, 'Karen', 'Hall', 'Marketing', 60000, '2024-05-09', 4),\n",
       " (17, 'Steven', 'Allen', 'IT', 69000, '2024-05-10', 5),\n",
       " (18, 'Elizabeth', 'Young', 'Finance', 62000, '2024-05-11', 2),\n",
       " (21, 'Brian', 'Lopez', 'Sales', 62000, '2024-05-14', 5),\n",
       " (22, 'Megan', 'Hill', 'IT', 71000, '2024-05-15', 2),\n",
       " (23, 'Anthony', 'Scott', 'Finance', 66000, '2024-05-16', 3),\n",
       " (24, 'Deborah', 'Green', 'Marketing', 63000, '2024-05-17', 4),\n",
       " (27, 'Kenneth', 'Carter', 'Sales', 64000, '2024-05-20', 3),\n",
       " (28, 'Betty', 'Mitchell', 'IT', 72000, '2024-05-21', 4),\n",
       " (29, 'Ronald', 'Perez', 'Finance', 67000, '2024-05-22', 5),\n",
       " (30, 'Laura', 'Roberts', 'Marketing', 65000, '2024-05-23', 2)]"
      ]
     },
     "execution_count": 72,
     "metadata": {},
     "output_type": "execute_result"
    }
   ],
   "source": [
    "cursor.execute(\"SELECT * FROM employees WHERE salary >= 60000\")\n",
    "cursor.fetchall()"
   ]
  },
  {
   "cell_type": "markdown",
   "metadata": {},
   "source": [
    "### **Logical Operators:**\n",
    "#### `AND`: Used to combine multiple conditions where both must be true."
   ]
  },
  {
   "cell_type": "code",
   "execution_count": 73,
   "metadata": {},
   "outputs": [
    {
     "data": {
      "text/plain": [
       "[(3, 'Michael', 'Johnson', 'Sales', 60000, '2024-04-27', 5),\n",
       " (21, 'Brian', 'Lopez', 'Sales', 62000, '2024-05-14', 5)]"
      ]
     },
     "execution_count": 73,
     "metadata": {},
     "output_type": "execute_result"
    }
   ],
   "source": [
    "cursor.execute(\"\"\"\n",
    "    SELECT * FROM employees WHERE department = 'Sales' AND performance_rating >3\n",
    "\"\"\")\n",
    "cursor.fetchall()"
   ]
  },
  {
   "cell_type": "markdown",
   "metadata": {},
   "source": [
    "#### `OR`: Used to combine multiple conditions where at least one must be true."
   ]
  },
  {
   "cell_type": "code",
   "execution_count": 74,
   "metadata": {},
   "outputs": [
    {
     "data": {
      "text/plain": [
       "[(2, 'Jane', 'Smith', 'Marketing', 55000, '2024-04-26', 3),\n",
       " (4, 'Emily', 'Davis', 'Operations', 62000, '2024-04-20', 2),\n",
       " (5, 'David', 'Wilson', 'Operations', 58000, '2024-04-28', 1),\n",
       " (9, 'Christopher', 'Thomas', 'Marketing', 59000, '2024-05-02', 2),\n",
       " (11, 'James', 'White', 'Operations', 56000, '2024-05-04', 4),\n",
       " (16, 'Karen', 'Hall', 'Marketing', 60000, '2024-05-09', 4),\n",
       " (19, 'George', 'King', 'Operations', 57000, '2024-05-12', 3),\n",
       " (24, 'Deborah', 'Green', 'Marketing', 63000, '2024-05-17', 4),\n",
       " (25, 'Larry', 'Adams', 'Operations', 58000, '2024-05-18', 5),\n",
       " (30, 'Laura', 'Roberts', 'Marketing', 65000, '2024-05-23', 2)]"
      ]
     },
     "execution_count": 74,
     "metadata": {},
     "output_type": "execute_result"
    }
   ],
   "source": [
    "cursor.execute(\"\"\"\n",
    "    SELECT * FROM employees WHERE department = 'Operations' OR department = 'Marketing'\n",
    "\"\"\")\n",
    "cursor.fetchall()"
   ]
  },
  {
   "cell_type": "markdown",
   "metadata": {},
   "source": [
    "#### `NOT`: Used to negate a condition."
   ]
  },
  {
   "cell_type": "code",
   "execution_count": 75,
   "metadata": {},
   "outputs": [
    {
     "data": {
      "text/plain": [
       "[(2, 'Jane', 'Smith', 'Marketing', 55000, '2024-04-26', 3),\n",
       " (3, 'Michael', 'Johnson', 'Sales', 60000, '2024-04-27', 5),\n",
       " (4, 'Emily', 'Davis', 'Operations', 62000, '2024-04-20', 2),\n",
       " (5, 'David', 'Wilson', 'Operations', 58000, '2024-04-28', 1),\n",
       " (7, 'Robert', 'Anderson', 'Finance', 65000, '2024-04-30', 3),\n",
       " (8, 'Patricia', 'Taylor', 'HR', 52000, '2024-05-01', 5),\n",
       " (9, 'Christopher', 'Thomas', 'Marketing', 59000, '2024-05-02', 2),\n",
       " (10, 'Jennifer', 'Lee', 'Sales', 63000, '2024-05-03', 3),\n",
       " (11, 'James', 'White', 'Operations', 56000, '2024-05-04', 4),\n",
       " (13, 'Daniel', 'Clark', 'Finance', 64000, '2024-05-06', 5),\n",
       " (14, 'Nancy', 'Lewis', 'HR', 53000, '2024-05-07', 2),\n",
       " (15, 'Paul', 'Walker', 'Sales', 61000, '2024-05-08', 3),\n",
       " (16, 'Karen', 'Hall', 'Marketing', 60000, '2024-05-09', 4),\n",
       " (18, 'Elizabeth', 'Young', 'Finance', 62000, '2024-05-11', 2),\n",
       " (19, 'George', 'King', 'Operations', 57000, '2024-05-12', 3),\n",
       " (20, 'Mary', 'Wright', 'HR', 54000, '2024-05-13', 4),\n",
       " (21, 'Brian', 'Lopez', 'Sales', 62000, '2024-05-14', 5),\n",
       " (23, 'Anthony', 'Scott', 'Finance', 66000, '2024-05-16', 3),\n",
       " (24, 'Deborah', 'Green', 'Marketing', 63000, '2024-05-17', 4),\n",
       " (25, 'Larry', 'Adams', 'Operations', 58000, '2024-05-18', 5),\n",
       " (26, 'Sarah', 'Nelson', 'HR', 55000, '2024-05-19', 2),\n",
       " (27, 'Kenneth', 'Carter', 'Sales', 64000, '2024-05-20', 3),\n",
       " (29, 'Ronald', 'Perez', 'Finance', 67000, '2024-05-22', 5),\n",
       " (30, 'Laura', 'Roberts', 'Marketing', 65000, '2024-05-23', 2)]"
      ]
     },
     "execution_count": 75,
     "metadata": {},
     "output_type": "execute_result"
    }
   ],
   "source": [
    "cursor.execute(\"\"\"\n",
    "    SELECT * FROM employees WHERE NOT department = \"IT\"\n",
    "\"\"\")\n",
    "cursor.fetchall()"
   ]
  },
  {
   "cell_type": "markdown",
   "metadata": {},
   "source": [
    "### **Special Operators:**\n",
    "#### `BETWEEN`: Checks if a value falls within a specified range."
   ]
  },
  {
   "cell_type": "code",
   "execution_count": 76,
   "metadata": {},
   "outputs": [
    {
     "data": {
      "text/plain": [
       "[(3, 'Michael', 'Johnson', 'Sales', 60000, '2024-04-27', 5),\n",
       " (4, 'Emily', 'Davis', 'Operations', 62000, '2024-04-20', 2),\n",
       " (7, 'Robert', 'Anderson', 'Finance', 65000, '2024-04-30', 3),\n",
       " (10, 'Jennifer', 'Lee', 'Sales', 63000, '2024-05-03', 3),\n",
       " (13, 'Daniel', 'Clark', 'Finance', 64000, '2024-05-06', 5),\n",
       " (15, 'Paul', 'Walker', 'Sales', 61000, '2024-05-08', 3),\n",
       " (16, 'Karen', 'Hall', 'Marketing', 60000, '2024-05-09', 4),\n",
       " (18, 'Elizabeth', 'Young', 'Finance', 62000, '2024-05-11', 2),\n",
       " (21, 'Brian', 'Lopez', 'Sales', 62000, '2024-05-14', 5),\n",
       " (24, 'Deborah', 'Green', 'Marketing', 63000, '2024-05-17', 4),\n",
       " (27, 'Kenneth', 'Carter', 'Sales', 64000, '2024-05-20', 3),\n",
       " (30, 'Laura', 'Roberts', 'Marketing', 65000, '2024-05-23', 2)]"
      ]
     },
     "execution_count": 76,
     "metadata": {},
     "output_type": "execute_result"
    }
   ],
   "source": [
    "cursor.execute(\"\"\"\n",
    "    SELECT * FROM employees WHERE salary BETWEEN 60000 AND 65000\n",
    "\"\"\")\n",
    "cursor.fetchall()"
   ]
  },
  {
   "cell_type": "markdown",
   "metadata": {},
   "source": [
    "#### `IN`: Checks if a value belongs to a set of values."
   ]
  },
  {
   "cell_type": "code",
   "execution_count": 77,
   "metadata": {},
   "outputs": [
    {
     "data": {
      "text/plain": [
       "[(3, 'Michael', 'Johnson', 'Sales', 60000, '2024-04-27', 5),\n",
       " (6, 'Linda', 'Martinez', 'IT', 70000, '2024-04-29', 4),\n",
       " (10, 'Jennifer', 'Lee', 'Sales', 63000, '2024-05-03', 3),\n",
       " (12, 'Barbara', 'Harris', 'IT', 68000, '2024-05-05', 1),\n",
       " (15, 'Paul', 'Walker', 'Sales', 61000, '2024-05-08', 3),\n",
       " (17, 'Steven', 'Allen', 'IT', 69000, '2024-05-10', 5),\n",
       " (21, 'Brian', 'Lopez', 'Sales', 62000, '2024-05-14', 5),\n",
       " (22, 'Megan', 'Hill', 'IT', 71000, '2024-05-15', 2),\n",
       " (27, 'Kenneth', 'Carter', 'Sales', 64000, '2024-05-20', 3),\n",
       " (28, 'Betty', 'Mitchell', 'IT', 72000, '2024-05-21', 4)]"
      ]
     },
     "execution_count": 77,
     "metadata": {},
     "output_type": "execute_result"
    }
   ],
   "source": [
    "cursor.execute(\"\"\"\n",
    "    SELECT * FROM employees WHERE department IN ('IT','Sales')\n",
    "\"\"\")\n",
    "cursor.fetchall()"
   ]
  },
  {
   "cell_type": "markdown",
   "metadata": {},
   "source": [
    "#### `LIKE`: Used for pattern matching with wildcards."
   ]
  },
  {
   "cell_type": "code",
   "execution_count": 78,
   "metadata": {},
   "outputs": [
    {
     "data": {
      "text/plain": [
       "[(2, 'Jane', 'Smith', 'Marketing', 55000, '2024-04-26', 3),\n",
       " (11, 'James', 'White', 'Operations', 56000, '2024-05-04', 4)]"
      ]
     },
     "execution_count": 78,
     "metadata": {},
     "output_type": "execute_result"
    }
   ],
   "source": [
    "# %string - ending substring\n",
    "cursor.execute(\"\"\"\n",
    "    SELECT * FROM employees WHERE first_name LIKE 'ja%'\n",
    "\"\"\")\n",
    "cursor.fetchall()"
   ]
  },
  {
   "cell_type": "markdown",
   "metadata": {},
   "source": [
    "### **ORDER BY**\n",
    "\n",
    "The **ORDER BY** clause allows you to sort the results of your SELECT queries in either ascending or descending order. It lets you sort the retrieved data based on one or more columns, making it easier to analyze and interpret."
   ]
  },
  {
   "cell_type": "markdown",
   "metadata": {},
   "source": []
  },
  {
   "cell_type": "markdown",
   "metadata": {},
   "source": [
    "#### `ASC:` Ascending order (lowest to highest). (Default)"
   ]
  },
  {
   "cell_type": "code",
   "execution_count": null,
   "metadata": {},
   "outputs": [],
   "source": []
  },
  {
   "cell_type": "markdown",
   "metadata": {},
   "source": [
    "#### `DESC:` Descending order (highest to lowest)."
   ]
  },
  {
   "cell_type": "code",
   "execution_count": null,
   "metadata": {},
   "outputs": [],
   "source": []
  },
  {
   "cell_type": "markdown",
   "metadata": {},
   "source": [
    "### **GROUP BY**\n",
    "\n",
    "The **GROUP BY** clause is used to organize and summarize data by grouping rows with the same values in one or more columns. This helps you analyze trends, patterns, and aggregate statistics within your data."
   ]
  },
  {
   "cell_type": "markdown",
   "metadata": {},
   "source": [
    "#### Grouping with `COUNT()`"
   ]
  },
  {
   "cell_type": "code",
   "execution_count": null,
   "metadata": {},
   "outputs": [],
   "source": []
  },
  {
   "cell_type": "markdown",
   "metadata": {},
   "source": [
    "#### Grouping with `SUM()`"
   ]
  },
  {
   "cell_type": "code",
   "execution_count": null,
   "metadata": {},
   "outputs": [],
   "source": []
  },
  {
   "cell_type": "markdown",
   "metadata": {},
   "source": [
    "#### Grouping with `AVG()`"
   ]
  },
  {
   "cell_type": "code",
   "execution_count": null,
   "metadata": {},
   "outputs": [],
   "source": []
  }
 ],
 "metadata": {
  "kernelspec": {
   "display_name": "Python 3",
   "language": "python",
   "name": "python3"
  },
  "language_info": {
   "codemirror_mode": {
    "name": "ipython",
    "version": 3
   },
   "file_extension": ".py",
   "mimetype": "text/x-python",
   "name": "python",
   "nbconvert_exporter": "python",
   "pygments_lexer": "ipython3",
   "version": "3.13.0"
  }
 },
 "nbformat": 4,
 "nbformat_minor": 2
}
