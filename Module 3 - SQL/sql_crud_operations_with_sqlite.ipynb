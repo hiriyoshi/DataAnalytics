{
 "cells": [
  {
   "cell_type": "markdown",
   "metadata": {},
   "source": [
    "# **Module 3 - SQL CRUD Operations using SQLite Database**"
   ]
  },
  {
   "cell_type": "markdown",
   "metadata": {},
   "source": [
    "## **Structured Query Language(SQL)**\n",
    "- is a `programming language` used for **managing** and **manipulating data** held in a relational database management system (RDBMS).\n",
    "- specifically designed for interacting with databases. It allows you to perform various operations like **querying** data, **inserting** new records, **updating** existing records, and **deleting** records.\n",
    "\n",
    "### **Database Structure** \n",
    "- In SQL, data is stored in tables, which are organized into databases. \n",
    "- Each table consists of **rows** and **columns**. \n",
    "- `Rows` represent individual **records**, while `columns` represent **attributes** or **fields** of those records."
   ]
  },
  {
   "cell_type": "markdown",
   "metadata": {},
   "source": [
    "## **Import SQLite3**"
   ]
  },
  {
   "cell_type": "code",
   "execution_count": null,
   "metadata": {},
   "outputs": [],
   "source": []
  },
  {
   "cell_type": "markdown",
   "metadata": {},
   "source": [
    "# **Create SQLite Database**\n",
    "If you want to create the database file in the current directory (where your Jupyter Notebook is located) and specify the name of the database file, you can do it like this:\n",
    "\n",
    "Replace `database-name.db` with the desired name of your SQLite database file. When you run this command, it will create the SQLite database file in the current directory.\n",
    "\n",
    "Syntax:\n",
    "```\n",
    "conn = sqlite3.connect('database-name.db')\n",
    "```\n",
    "\n",
    "Example:"
   ]
  },
  {
   "cell_type": "code",
   "execution_count": null,
   "metadata": {},
   "outputs": [],
   "source": []
  },
  {
   "cell_type": "markdown",
   "metadata": {},
   "source": [
    "## **Create a Cursor Object**\n",
    "\n",
    "- Create a cursor object using the `cursor()` method. The cursor is used to execute SQL commands:"
   ]
  },
  {
   "cell_type": "code",
   "execution_count": null,
   "metadata": {},
   "outputs": [],
   "source": []
  },
  {
   "cell_type": "markdown",
   "metadata": {},
   "source": [
    "## **Create Table**\n",
    "To define and create a new table in a database, you can use the `CREATE TABLE` statement.\n",
    "\n",
    "Syntax:\n",
    "```\n",
    "cursor.execute(\"\"\"\n",
    "CREATE TABLE IF NOT EXISTS table-name (\n",
    "    column1 data-type constraint,\n",
    "    column2 data-type constraint,\n",
    "    ...,\n",
    "    columnN data-type constraint\n",
    ");\"\"\")\n",
    "```\n",
    "\n",
    "Example:"
   ]
  },
  {
   "cell_type": "code",
   "execution_count": null,
   "metadata": {},
   "outputs": [],
   "source": []
  },
  {
   "cell_type": "markdown",
   "metadata": {},
   "source": [
    "## **Check if the employee table is created successfully.**"
   ]
  },
  {
   "cell_type": "code",
   "execution_count": null,
   "metadata": {},
   "outputs": [],
   "source": []
  },
  {
   "cell_type": "markdown",
   "metadata": {},
   "source": [
    "## **Deleting a Table**\n",
    "\n",
    "If you want to delete the entire table, you can use the `DROP TABLE` statement.\n",
    "\n",
    "Syntax:\n",
    "```\n",
    "cursor.execute(\"DROP TABLE table-name;\")\n",
    "```\n",
    "\n",
    "Example:"
   ]
  },
  {
   "cell_type": "code",
   "execution_count": null,
   "metadata": {},
   "outputs": [],
   "source": []
  },
  {
   "cell_type": "code",
   "execution_count": null,
   "metadata": {},
   "outputs": [],
   "source": []
  },
  {
   "cell_type": "markdown",
   "metadata": {},
   "source": [
    "## **Recreate the Table**"
   ]
  },
  {
   "cell_type": "code",
   "execution_count": null,
   "metadata": {},
   "outputs": [],
   "source": []
  },
  {
   "cell_type": "markdown",
   "metadata": {},
   "source": [
    "## **Check the structure of the table**\n",
    "\n",
    "\n",
    "To display the structure of a table, including its fields (columns) even if it doesn't have any records yet, you can use database-specific commands:\n",
    "\n",
    "- `cid`: The **column ID**.\n",
    "- `name`: The **name** of the column.\n",
    "- `type`: The **data type** of the column.\n",
    "- `notnull`: Whether the column cannot contain **NULL values**.\n",
    "- `dflt_value`: The **default value** of the column.\n",
    "- `pk`: Whether the column is part of the **primary key**.\n",
    "\n",
    "Note: \n",
    "- We call columns of the table as `fields`.\n",
    "- We call tables as `schema`.\n",
    "\n",
    "\n",
    "Syntax:\n",
    "```\n",
    "cursor.execute(\"PRAGMA table_info('table-name');\")\n",
    "cursor.fetchall()\n",
    "```\n",
    "\n",
    "Example:"
   ]
  },
  {
   "cell_type": "code",
   "execution_count": null,
   "metadata": {},
   "outputs": [],
   "source": []
  },
  {
   "cell_type": "markdown",
   "metadata": {},
   "source": [
    "## **Altering Table**\n",
    "\n",
    "You might need to alter the table structure at some point. For example, you can add a new column like this:\n",
    "\n",
    "Syntax:\n",
    "```\n",
    "cursor.execute(\"ALTER TABLE table-name ADD column-name data-type;\")\n",
    "```\n",
    "\n",
    "Example:"
   ]
  },
  {
   "cell_type": "code",
   "execution_count": null,
   "metadata": {},
   "outputs": [],
   "source": []
  },
  {
   "cell_type": "markdown",
   "metadata": {},
   "source": [
    "## **Inserting Data**\n",
    "\n",
    "You can insert data into the employees table using the `INSERT INTO` statement.\n",
    "\n",
    "Syntax:\n",
    "```\n",
    "cursor.execute(\"\"\"\n",
    "INSERT INTO table-name (column1, column2, ..., columnN) \n",
    "VALUES (value1, value2, ..., valueN);\n",
    "               \"\"\")\n",
    "```\n",
    "\n",
    "Example:"
   ]
  },
  {
   "cell_type": "code",
   "execution_count": null,
   "metadata": {},
   "outputs": [],
   "source": []
  },
  {
   "cell_type": "markdown",
   "metadata": {},
   "source": [
    "## **Selecting Data**\n",
    "\n",
    "You can retrieve data from the employees table using the `SELECT` statement. This will return all rows and columns from the table.\n",
    "\n",
    "Syntax:\n",
    "```\n",
    "cursor.execute(\"SELECT * FROM table-name;\")\n",
    "```\n",
    "\n",
    "Example:"
   ]
  },
  {
   "cell_type": "code",
   "execution_count": null,
   "metadata": {},
   "outputs": [],
   "source": []
  },
  {
   "cell_type": "markdown",
   "metadata": {},
   "source": [
    "## **Selecting Specific Columns**\n",
    "To retrieve data from specific columns of a table, you can use the `SELECT` statement with the column names specified.\n",
    "\n",
    "Syntax:\n",
    "```\n",
    "cursor.execute(\"SELECT column1, column2, ..., columnN FROM table-name;\")\n",
    "```\n",
    "\n",
    "Example:"
   ]
  },
  {
   "cell_type": "code",
   "execution_count": null,
   "metadata": {},
   "outputs": [],
   "source": []
  },
  {
   "cell_type": "markdown",
   "metadata": {},
   "source": [
    "## **Updating Data**\n",
    "\n",
    "If you want to update existing data, you can use the `UPDATE` statement.\n",
    "\n",
    "Syntax:\n",
    "```\n",
    "cursor.execute(\"\"\"\n",
    "UPDATE table-name \n",
    "SET column-name = new-data \n",
    "WHERE primary-key = value;\n",
    "            \"\"\")\n",
    "```\n",
    "\n",
    "Example:"
   ]
  },
  {
   "cell_type": "code",
   "execution_count": null,
   "metadata": {},
   "outputs": [],
   "source": []
  },
  {
   "cell_type": "markdown",
   "metadata": {},
   "source": [
    "## **Deleting Data**\n",
    "\n",
    "You can delete data from the table using the `DELETE` statement. \n",
    "\n",
    "Syntax:\n",
    "```\n",
    "cursor.execute(\"DELETE FROM table-name WHERE primary-key = value;\")\n",
    "```\n",
    "\n",
    "Example:"
   ]
  },
  {
   "cell_type": "code",
   "execution_count": null,
   "metadata": {},
   "outputs": [],
   "source": []
  }
 ],
 "metadata": {
  "kernelspec": {
   "display_name": "Python 3",
   "language": "python",
   "name": "python3"
  },
  "language_info": {
   "codemirror_mode": {
    "name": "ipython",
    "version": 3
   },
   "file_extension": ".py",
   "mimetype": "text/x-python",
   "name": "python",
   "nbconvert_exporter": "python",
   "pygments_lexer": "ipython3",
   "version": "3.13.0"
  }
 },
 "nbformat": 4,
 "nbformat_minor": 2
}
