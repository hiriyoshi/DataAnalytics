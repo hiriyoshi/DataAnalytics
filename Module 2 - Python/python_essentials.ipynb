{
 "cells": [
  {
   "cell_type": "markdown",
   "metadata": {},
   "source": [
    "# **Python Key Points**\n",
    "1. **Interpreted Language**: Python is an interpreted language, which means that code is executed line by line by the Python interpreter. This allows for easier debugging and faster development cycles.\n",
    "2. **High-Level Language**: Python is designed to be human-readable and has a simple and easy-to-learn syntax. This makes it suitable for beginners and experienced programmers alike.\n",
    "3. **Dynamically Typed**: Python is dynamically typed, meaning that you don't need to declare variable types explicitly. The type of a variable is inferred at runtime based on the value assigned to it.\n",
    "4. **Indentation**: Python uses indentation to define code blocks instead of curly braces or keywords like begin and end. This enforces clean and readable code but can also lead to syntax errors if not used correctly.\n",
    "5. **Versatile Usage**: Python is used for a wide range of applications, including web development, data science, machine learning, artificial intelligence, scientific computing, automation, scripting, and more. Its versatility and ease of use make it a popular choice across industries."
   ]
  },
  {
   "cell_type": "markdown",
   "metadata": {},
   "source": [
    "### Install `ipykernel`\n",
    "1. Run the cell then it will pop up a message saying.\n",
    "2. Running cells with `Python Version` requires ipykernel. \n",
    "3. Click install"
   ]
  },
  {
   "cell_type": "code",
   "execution_count": 13,
   "metadata": {},
   "outputs": [
    {
     "name": "stdout",
     "output_type": "stream",
     "text": [
      "Hello World!\n"
     ]
    }
   ],
   "source": [
    "print(\"Hello World!\")"
   ]
  },
  {
   "cell_type": "markdown",
   "metadata": {},
   "source": [
    "## **Commenting**\n",
    "Commenting is the process of adding annotations or remarks within your code to provide explanations, context, or documentation. Comments are not executed by the interpreter/compiler and are purely for the benefit of developers reading the code.\n",
    "\n",
    "#### **Types of Comments:**"
   ]
  },
  {
   "cell_type": "markdown",
   "metadata": {},
   "source": [
    "- **Single-Line Comments:** These comments start with a specific character (e.g., # in Python) and continue until the end of the line. They are suitable for brief annotations or remarks on individual lines of code."
   ]
  },
  {
   "cell_type": "code",
   "execution_count": 14,
   "metadata": {},
   "outputs": [
    {
     "name": "stdout",
     "output_type": "stream",
     "text": [
      "Hello World\n"
     ]
    }
   ],
   "source": [
    "# This is a single-line comment\n",
    "# Prints Hello World\n",
    "print(\"Hello World\")"
   ]
  },
  {
   "cell_type": "markdown",
   "metadata": {},
   "source": [
    "- **Multi-Line Comments:** While many programming languages support multi-line comments, Python does not have an explicit syntax for them. However, multi-line strings (docstrings) enclosed in triple quotes (\"\"\") are often used for this purpose. They are primarily intended for documenting modules, classes, functions, and methods."
   ]
  },
  {
   "cell_type": "code",
   "execution_count": 15,
   "metadata": {},
   "outputs": [
    {
     "name": "stdout",
     "output_type": "stream",
     "text": [
      "Calculator\n"
     ]
    }
   ],
   "source": [
    "\"\"\"\n",
    "    This is a\n",
    "    multi-line\n",
    "    Comment\n",
    "    Imagine\n",
    "    This is \n",
    "    A Calculator\n",
    "\"\"\"\n",
    "print(\"Calculator\")"
   ]
  },
  {
   "cell_type": "markdown",
   "metadata": {},
   "source": [
    "- **Inline Comments:** Inline comments appear on the same line as code and provide additional context or explanation for that specific line of code. However, excessive use of inline comments can clutter the code and reduce readability, so they should be used sparingly and only when necessary."
   ]
  },
  {
   "cell_type": "code",
   "execution_count": 16,
   "metadata": {},
   "outputs": [
    {
     "name": "stdout",
     "output_type": "stream",
     "text": [
      "Hello World\n",
      "Hello World\n"
     ]
    }
   ],
   "source": [
    "print(\"Hello World\") # This is an inline comment\n",
    "print(\"Hello World\") # Prints Hello World"
   ]
  },
  {
   "cell_type": "markdown",
   "metadata": {},
   "source": [
    "## **Variables**\n",
    "\n",
    "#### **Creating Variables**\n",
    "\n",
    "Creating a variable in Python is simple. You assign a value to a variable name and start using it. Python figures out the variable type automatically.\n",
    "\n",
    "#### **Variable Naming Rules**\n",
    "- Variable names can contain letters (both uppercase and lowercase), digits, and underscores.\n",
    "- They must begin with a letter or an underscore (_), but not with a digit.\n",
    "- Case sensitive (myVar and myvar are different variables)\n",
    "- Python keywords cannot be used as variable names."
   ]
  },
  {
   "cell_type": "code",
   "execution_count": 17,
   "metadata": {},
   "outputs": [
    {
     "name": "stdout",
     "output_type": "stream",
     "text": [
      "10\n",
      "7\n",
      "100\n",
      "10 7 100\n"
     ]
    }
   ],
   "source": [
    "number = 10\n",
    "Number = 7\n",
    "third_number = 100 # Snake case naming convention\n",
    "print(number)\n",
    "print(Number)\n",
    "print(third_number)\n",
    "print(number, Number, third_number)"
   ]
  },
  {
   "cell_type": "markdown",
   "metadata": {},
   "source": [
    "## **Numeric Data Types**\n",
    "\n",
    "- **int** - Integer values, such as `5`, `-3`, `1000`, etc."
   ]
  },
  {
   "cell_type": "code",
   "execution_count": 18,
   "metadata": {},
   "outputs": [
    {
     "name": "stdout",
     "output_type": "stream",
     "text": [
      "Positive Integer:  5\n",
      "Negative Integer:  -3\n",
      "Positive Integer:  1000\n",
      "Zero:  0\n",
      "Data Type of First Number <class 'int'>\n",
      "Data Type of Second Number - Negative Integer <class 'int'>\n",
      "Data Type of Third Number <class 'int'>\n",
      "Data Type of Zero <class 'int'>\n"
     ]
    }
   ],
   "source": [
    "first_number = 5\n",
    "second_number = -3\n",
    "third_number = 1000\n",
    "zero = 0\n",
    "print(\"Positive Integer: \", first_number)\n",
    "print(\"Negative Integer: \", second_number)\n",
    "print(\"Positive Integer: \", third_number)\n",
    "print(\"Zero: \", zero)\n",
    "print(\"Data Type of First Number\", type(first_number))\n",
    "print(\"Data Type of Second Number - Negative Integer\", type(second_number))\n",
    "print(\"Data Type of Third Number\", type(third_number))\n",
    "print(\"Data Type of Zero\", type(zero))"
   ]
  },
  {
   "cell_type": "markdown",
   "metadata": {},
   "source": [
    "- **float**: Floating-point values, representing decimal numbers, such as `3.14`, `-0.001`, `2.0`, etc."
   ]
  },
  {
   "cell_type": "code",
   "execution_count": 19,
   "metadata": {},
   "outputs": [
    {
     "name": "stdout",
     "output_type": "stream",
     "text": [
      "Positive Float:  3.14\n",
      "Negative Float:  -0.001\n",
      "Positive Float:  2.0\n",
      "Data Type of First Float:  <class 'float'>\n",
      "Data Type of Second Float:  <class 'float'>\n",
      "Data Type of Third Float:  <class 'float'>\n"
     ]
    }
   ],
   "source": [
    "first_float = 3.14\n",
    "second_float = -0.001\n",
    "third_float = 2.0\n",
    "print(\"Positive Float: \", first_float)\n",
    "print(\"Negative Float: \", second_float)\n",
    "print(\"Positive Float: \", third_float)\n",
    "print(\"Data Type of First Float: \", type(first_float))\n",
    "print(\"Data Type of Second Float: \", type(second_float))\n",
    "print(\"Data Type of Third Float: \", type(third_float))"
   ]
  },
  {
   "cell_type": "markdown",
   "metadata": {},
   "source": [
    "## **Operators and Expressions**\n",
    "\n",
    "### **Arithmetic Operators**"
   ]
  },
  {
   "cell_type": "code",
   "execution_count": 20,
   "metadata": {},
   "outputs": [
    {
     "name": "stdout",
     "output_type": "stream",
     "text": [
      "Addition of Two Numbers:  7\n",
      "Subtraction of Two Numbers:  3\n",
      "Multiplication of Two Numbers:  10\n",
      "Division of Two Numbers:  2.5\n",
      "Addition of Two Numbers:  6\n",
      "Subtraction of Two Numbers:  2\n",
      "Multiplication of Two Numbers:  8\n",
      "Division of Two Numbers:  2.0\n",
      "Remainder of Two Numbers:  0\n",
      "Exponent:  64\n",
      "28.0\n"
     ]
    }
   ],
   "source": [
    "number_one = 5\n",
    "number_two = 2\n",
    "# Addition (+) = Sum\n",
    "print(\"Addition of Two Numbers: \", number_one + number_two)\n",
    "# Subtraction (-) = Difference\n",
    "print(\"Subtraction of Two Numbers: \", number_one - number_two)\n",
    "# Multliplication (*) = Product\n",
    "print(\"Multiplication of Two Numbers: \", number_one * number_two)\n",
    "# Division (/) = Quotient\n",
    "print(\"Division of Two Numbers: \", number_one / number_two)\n",
    "\n",
    "number_one = 4\n",
    "number_two = 2\n",
    "# Addition (+) = Sum\n",
    "print(\"Addition of Two Numbers: \", number_one + number_two)\n",
    "# Subtraction (-) = Difference\n",
    "print(\"Subtraction of Two Numbers: \", number_one - number_two)\n",
    "# Multliplication (*) = Product\n",
    "print(\"Multiplication of Two Numbers: \", number_one * number_two)\n",
    "# Division (/) = Quotient\n",
    "print(\"Division of Two Numbers: \", number_one / number_two)\n",
    "# Modulus (%) = Remainder\n",
    "print(\"Remainder of Two Numbers: \", number_one % number_two)\n",
    "# Exponent (**)\n",
    "print(\"Exponent: \", number_one ** 3)\n",
    "\n",
    "# Order of Operations\n",
    "# PEMDAS - Parentheses, Exponents, Multiplication, Division, Addition, Subtraction\n",
    "# BODMAS - Brackets, Order, Division, Multiplication, Addition, Subtraction\n",
    "# Order - Left to Right\n",
    "print(10 + 8 / 4 * (5 - 2) ** 2)"
   ]
  },
  {
   "cell_type": "markdown",
   "metadata": {},
   "source": [
    "### **Assignment Operators**"
   ]
  },
  {
   "cell_type": "code",
   "execution_count": 21,
   "metadata": {},
   "outputs": [
    {
     "name": "stdout",
     "output_type": "stream",
     "text": [
      "Addition Assignment:  15\n",
      "Subtraction Assignment:  10\n",
      "Multiplication Assignment:  50\n",
      "Division Assignment:  10.0\n"
     ]
    }
   ],
   "source": [
    "num1 = 10\n",
    "num2 = 5\n",
    "# Addition Assignment (+=)\n",
    "num1 += num2\n",
    "print(\"Addition Assignment: \", num1)\n",
    "# Subtraction Assignment (-=)\n",
    "num1 -= num2\n",
    "print(\"Subtraction Assignment: \", num1)\n",
    "# Multiplication Assignment (*=)\n",
    "num1 *= num2\n",
    "print(\"Multiplication Assignment: \", num1)\n",
    "# Division Assignment (/=)\n",
    "num1 /= num2\n",
    "print(\"Division Assignment: \", num1)"
   ]
  },
  {
   "cell_type": "markdown",
   "metadata": {},
   "source": [
    "## **Boolean Data Type**\n",
    "- **bool**: Boolean values representing True or False."
   ]
  },
  {
   "cell_type": "code",
   "execution_count": 22,
   "metadata": {},
   "outputs": [
    {
     "name": "stdout",
     "output_type": "stream",
     "text": [
      "Am I a student? False\n",
      "Am I a teacher? True\n",
      "Equal to:  False\n"
     ]
    }
   ],
   "source": [
    "# Boolean\n",
    "is_student = False\n",
    "is_teacher = True\n",
    "print(\"Am I a student?\", is_student)\n",
    "print(\"Am I a teacher?\", is_teacher)\n",
    "num3 = 10\n",
    "num4 = 5\n",
    "# Equal to (==)\n",
    "print(\"Equal to: \", num3 == num4)"
   ]
  },
  {
   "cell_type": "markdown",
   "metadata": {},
   "source": [
    "### **Comparison Operators**"
   ]
  },
  {
   "cell_type": "code",
   "execution_count": 23,
   "metadata": {},
   "outputs": [
    {
     "name": "stdout",
     "output_type": "stream",
     "text": [
      "Equal to:  False\n",
      "Not Equal to:  True\n",
      "Greater than:  True\n",
      "Lesser than:  False\n"
     ]
    }
   ],
   "source": [
    "num3 = 10\n",
    "num4 = 5\n",
    "# Equal to (==)\n",
    "print(\"Equal to: \", num3 == num4)\n",
    "# Not Equal to (!=)\n",
    "print(\"Not Equal to: \", num3 != num4)\n",
    "# Greater than (>)\n",
    "print(\"Greater than: \", num3 > num4)\n",
    "# Lesser than (<)\n",
    "print(\"Lesser than: \", num3 < num4)"
   ]
  },
  {
   "cell_type": "markdown",
   "metadata": {},
   "source": [
    "### **Logical Operators**"
   ]
  },
  {
   "cell_type": "code",
   "execution_count": null,
   "metadata": {},
   "outputs": [],
   "source": [
    "sunny = True\n",
    "warm = False\n",
    "# AND Logical Operator (and)\n",
    "# True only if all conditions are met, otherwise it will be false\n",
    "print(\"Is it sunny AND warm?\", sunny and warm)\n",
    "# OR Logical Operator (or)\n",
    "# True if at least condition is met, otherwise it will be false\n",
    "print(\"Is it sunny OR warm?\", sunny or warm)\n",
    "# NOT Logical Operator (not)\n",
    "# Invert the value of your variable\n",
    "print(\"NOT sunny?\", not sunny)"
   ]
  },
  {
   "cell_type": "markdown",
   "metadata": {},
   "source": [
    "## **Strings and String Methods**\n",
    "\n",
    "Strings are sequences of characters and are among the most used data types in Python, especially in data analytics for processing text data.\n",
    "\n",
    "#### **Introduction to Strings**\n",
    "\n",
    "Strings in Python are created by enclosing characters in quotes. Python treats single quotes (') and double quotes (\") as the same, allowing you to incorporate one type of quote within another including an apostrophe within a string.\n",
    "\n",
    "#### **Creating and Accessing Strings**"
   ]
  },
  {
   "cell_type": "code",
   "execution_count": 26,
   "metadata": {},
   "outputs": [
    {
     "name": "stdout",
     "output_type": "stream",
     "text": [
      "First Name:  John\n",
      "Last Name:  Doe\n",
      "Data Type of First Name:  <class 'str'>\n",
      "Length of First Name:  4\n",
      "Length of Last Name:  3\n",
      "First character:  G\n",
      "Third character:  o\n",
      "Last character:  A\n",
      "Last character (Alternative):  A\n",
      "Slice the string: Good\n"
     ]
    }
   ],
   "source": [
    "first_name = \"John\"\n",
    "last_name = 'Doe'\n",
    "# str = string\n",
    "print(\"First Name: \", first_name)\n",
    "print(\"Last Name: \", last_name)\n",
    "print(\"Data Type of First Name: \", type(first_name))\n",
    "print(\"Length of First Name: \", len(first_name))\n",
    "print(\"Length of Last Name: \", len(last_name))\n",
    "\n",
    "# Indexing / Accessing Strings - []\n",
    "message = \"Good asfdasdfA\"\n",
    "print(\"First character: \", message[0])\n",
    "print(\"Third character: \", message[2])\n",
    "print(\"Last character: \", message[-1])\n",
    "print(\"Last character (Alternative): \", message[len(message) - 1])\n",
    "\n",
    "# Slicing Parameters - []\n",
    "# 3 values\n",
    "# [starting index : ending index(excluded) : step]\n",
    "another_message = \"Good Morning Again\"\n",
    "print(\"Slice the string:\", another_message[0:4])"
   ]
  },
  {
   "cell_type": "markdown",
   "metadata": {},
   "source": [
    "### **String Methods**"
   ]
  },
  {
   "cell_type": "code",
   "execution_count": null,
   "metadata": {},
   "outputs": [
    {
     "name": "stdout",
     "output_type": "stream",
     "text": [
      "First character:  G\n",
      "Third character:  o\n",
      "Last character:  A\n",
      "Last character (Alternative):  A\n"
     ]
    }
   ],
   "source": []
  },
  {
   "cell_type": "markdown",
   "metadata": {},
   "source": [
    "### **Concatenation, Formatted String, and .format() Method**"
   ]
  },
  {
   "cell_type": "markdown",
   "metadata": {},
   "source": [
    "- **Concatenation**"
   ]
  },
  {
   "cell_type": "code",
   "execution_count": null,
   "metadata": {},
   "outputs": [],
   "source": []
  },
  {
   "cell_type": "markdown",
   "metadata": {},
   "source": [
    "- **Formatted Strings Literals (f-strings)** "
   ]
  },
  {
   "cell_type": "code",
   "execution_count": null,
   "metadata": {},
   "outputs": [],
   "source": []
  },
  {
   "cell_type": "markdown",
   "metadata": {},
   "source": [
    "- **.format() method**"
   ]
  },
  {
   "cell_type": "code",
   "execution_count": null,
   "metadata": {},
   "outputs": [],
   "source": []
  },
  {
   "cell_type": "markdown",
   "metadata": {},
   "source": [
    "## **Lists and List Methods**\n",
    "\n",
    "#### **Introduction to Lists**\n",
    "\n",
    "Lists are mutable sequences, meaning you can modify them after creation. They can contain items of any type, making them incredibly versatile for data collection and manipulation tasks.\n",
    "\n",
    "- Mutability: Lists are mutable, meaning their elements can be changed after creation.\n",
    "- Syntax: Lists are enclosed in square brackets ([]), and elements are separated by commas.\n",
    "- Indexing and Ordering: Lists are ordered collections, preserving the order of elements. Elements can be accessed using indices.\n",
    "- Usage: Lists are suitable for mutable sequences of items, like arrays, stacks, or queues.\n",
    "\n",
    "#### **Creating and Modifying Lists**"
   ]
  },
  {
   "cell_type": "code",
   "execution_count": null,
   "metadata": {},
   "outputs": [],
   "source": []
  },
  {
   "cell_type": "markdown",
   "metadata": {},
   "source": [
    "#### **List Methods**"
   ]
  },
  {
   "cell_type": "code",
   "execution_count": null,
   "metadata": {},
   "outputs": [],
   "source": []
  },
  {
   "cell_type": "markdown",
   "metadata": {},
   "source": [
    "#### **List Extending**"
   ]
  },
  {
   "cell_type": "code",
   "execution_count": null,
   "metadata": {},
   "outputs": [],
   "source": []
  },
  {
   "cell_type": "markdown",
   "metadata": {},
   "source": [
    "#### **Sorting List**"
   ]
  },
  {
   "cell_type": "code",
   "execution_count": null,
   "metadata": {},
   "outputs": [],
   "source": []
  },
  {
   "cell_type": "markdown",
   "metadata": {},
   "source": [
    "## **Tuples**\n",
    "\n",
    "**Introduction to Tuples**\n",
    "\n",
    "Tuples are ordered collections of items, just like lists. However, their immutability makes them useful for fixed data sequences and can serve as keys in dictionaries due to their hashable nature.\n",
    "\n",
    "- Mutability: Tuples are immutable, meaning their elements cannot be changed after creation.\n",
    "- Syntax: Tuples are enclosed in parentheses (()), and elements are separated by commas.\n",
    "- Indexing and Ordering: Tuples are ordered collections, preserving the order of elements. Elements can be accessed using indices.\n",
    "- Usage: Tuples are suitable for immutable sequences, often used for fixed collections of data.\n",
    "\n",
    "#### **Creating a tuple**"
   ]
  },
  {
   "cell_type": "code",
   "execution_count": null,
   "metadata": {},
   "outputs": [],
   "source": []
  },
  {
   "cell_type": "markdown",
   "metadata": {},
   "source": [
    "#### **Accessing Elements**"
   ]
  },
  {
   "cell_type": "code",
   "execution_count": null,
   "metadata": {},
   "outputs": [],
   "source": []
  },
  {
   "cell_type": "markdown",
   "metadata": {},
   "source": [
    "#### **Tuple Immutability**"
   ]
  },
  {
   "cell_type": "code",
   "execution_count": null,
   "metadata": {},
   "outputs": [],
   "source": []
  },
  {
   "cell_type": "markdown",
   "metadata": {},
   "source": [
    "## **Dictionaries and Dictionary Methods**\n",
    "\n",
    "#### **Introduction to Dictionaries**\n",
    "\n",
    "Dictionaries in Python are unordered collections of items. While lists are indexed by a range of numbers, dictionaries are indexed by keys, which can be any immutable type; strings and numbers can always be keys.\n",
    "- Mutability: Dictionaries are mutable, meaning they can be modified by adding, updating, or removing key-value pairs.\n",
    "- Syntax: Dictionaries are enclosed in curly braces ({}), with key-value pairs separated by colons (:) and items separated by commas.\n",
    "- Indexing and Ordering: Dictionaries are unordered collections, and elements are accessed using keys rather than indices.\n",
    "- Usage: Dictionaries are suitable for key-value mappings, efficient lookup, and representing structured data\n",
    "\n",
    "#### **Creating a dictionary and accessing values**"
   ]
  },
  {
   "cell_type": "code",
   "execution_count": null,
   "metadata": {},
   "outputs": [],
   "source": []
  },
  {
   "cell_type": "markdown",
   "metadata": {},
   "source": [
    "#### **Dictionary Methods**"
   ]
  },
  {
   "cell_type": "code",
   "execution_count": null,
   "metadata": {},
   "outputs": [],
   "source": []
  },
  {
   "cell_type": "markdown",
   "metadata": {},
   "source": [
    "## **Control Flow and Statements**"
   ]
  },
  {
   "cell_type": "markdown",
   "metadata": {},
   "source": [
    "#### **Conditional Statements:** \n",
    "Allow us to execute different blocks of code based on a condition.\n",
    "\n",
    "- **if, elif, else statements**"
   ]
  },
  {
   "cell_type": "code",
   "execution_count": null,
   "metadata": {},
   "outputs": [],
   "source": []
  },
  {
   "cell_type": "markdown",
   "metadata": {},
   "source": [
    "#### **Looping Statements:** \n",
    "Repeatedly execute a block of code until a specific condition is met.\n",
    "\n",
    "- **for Loop**"
   ]
  },
  {
   "cell_type": "code",
   "execution_count": null,
   "metadata": {},
   "outputs": [],
   "source": []
  },
  {
   "cell_type": "markdown",
   "metadata": {},
   "source": [
    "## **Functions**\n",
    "\n",
    "- Groups code together into a block.\n",
    "- Allows us to call and reuse code efficently.\n",
    "- It could take in information (parameters) and return information (return statement) to the caller."
   ]
  },
  {
   "cell_type": "code",
   "execution_count": null,
   "metadata": {},
   "outputs": [],
   "source": []
  }
 ],
 "metadata": {
  "kernelspec": {
   "display_name": "Python 3",
   "language": "python",
   "name": "python3"
  },
  "language_info": {
   "codemirror_mode": {
    "name": "ipython",
    "version": 3
   },
   "file_extension": ".py",
   "mimetype": "text/x-python",
   "name": "python",
   "nbconvert_exporter": "python",
   "pygments_lexer": "ipython3",
   "version": "3.13.0"
  }
 },
 "nbformat": 4,
 "nbformat_minor": 2
}
